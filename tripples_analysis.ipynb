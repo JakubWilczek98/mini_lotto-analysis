{
 "cells": [
  {
   "cell_type": "code",
   "execution_count": 1,
   "id": "80336b1a-d1a3-4f0c-8cb8-b60ea6cfd516",
   "metadata": {},
   "outputs": [],
   "source": [
    "# Modules\n",
    "import pandas as pd\n",
    "import numpy as np"
   ]
  },
  {
   "cell_type": "code",
   "execution_count": 2,
   "id": "d34928a1-0eff-4542-91af-408216bcfa66",
   "metadata": {},
   "outputs": [],
   "source": [
    "# Load lotto data\n",
    "\n",
    "data_file_names = ['mini-lottowyniki 2019',\n",
    "                   'mini-lottowyniki 2020',\n",
    "                   'mini-lottowyniki 2021',\n",
    "                   'mini-lottowyniki 2022']\n",
    "\n",
    "df = pd.DataFrame()\n",
    "\n",
    "for name in data_file_names:\n",
    "    df = df.append(pd.read_csv(f'data/{name}.csv', sep=';'), ignore_index=True)"
   ]
  },
  {
   "cell_type": "code",
   "execution_count": 4,
   "id": "52e00873-b0c2-4afe-811d-38a867f3120e",
   "metadata": {},
   "outputs": [],
   "source": [
    "# ----------------------Tripples Analysis--------------------------\n",
    "\n",
    "a_collection = np.arange(1,43,1)\n",
    "b_collection = np.arange(1,43,1)\n",
    "c_collection = np.arange(1,43,1)\n",
    "\n",
    "\n",
    "# Create list with all possible tripples\n",
    "\n",
    "tripples = []\n",
    "for a in a_collection:\n",
    "    for b in b_collection: \n",
    "        for c in c_collection:\n",
    "            tripples.append([a,b,c])"
   ]
  },
  {
   "cell_type": "code",
   "execution_count": 5,
   "id": "0aebb145-906a-41e1-a59c-73ff33fdd82e",
   "metadata": {},
   "outputs": [],
   "source": [
    "# Delete tripples\n",
    "\n",
    "new_tripples = []\n",
    "for tripple in tripples:\n",
    "    if tripple[0] != tripple[1] and tripple[1] != tripple[2] and tripple[0] != tripple[2]:\n",
    "        new_tripples.append(tripple)\n",
    "        \n",
    "tripples = new_tripples"
   ]
  },
  {
   "cell_type": "code",
   "execution_count": 6,
   "id": "520ba16d-7eb7-40a5-b71f-477a8c862297",
   "metadata": {},
   "outputs": [],
   "source": [
    "# Delete duplicates of tripples\n",
    "\n",
    "for tripple in tripples:\n",
    "    tripple.sort()\n",
    "    \n",
    "tripples.sort()\n",
    "\n",
    "unic_tripples_numbers = np.arange(0,68880,6)\n",
    "new_tripples = []\n",
    "for number in unic_tripples_numbers:\n",
    "    new_tripples.append(tripples[number])\n",
    "    \n",
    "tripples = new_tripples"
   ]
  },
  {
   "cell_type": "code",
   "execution_count": 7,
   "id": "8b66c538-0682-4f38-96a1-7a5ff2c328dc",
   "metadata": {},
   "outputs": [],
   "source": [
    "#Checking if tripple in mini lotto results\n",
    "found_tripples = []\n",
    "\n",
    "for tripple in tripples: \n",
    "    for index, rows in df.iterrows():\n",
    "        numbers_list = [rows.N1, rows.N2, rows.N3, rows.N4, rows.N5]\n",
    "        if tripple[0] in numbers_list and tripple[1] in numbers_list and tripple[2] in numbers_list:\n",
    "            found_tripples.append(tripple)"
   ]
  },
  {
   "cell_type": "code",
   "execution_count": 9,
   "id": "7432fa0a-2d6f-465c-ad82-24a8bf10ddc5",
   "metadata": {},
   "outputs": [],
   "source": [
    "# Counting the occurrence of tripples\n",
    "quantity_of_tripples = []\n",
    "\n",
    "for tripple in tripples:\n",
    "    count = 0\n",
    "    for f_tripple in found_tripples:\n",
    "        if tripple is f_tripple:\n",
    "            count += 1\n",
    "    quantity_of_tripples.append([tripple,count])\n",
    "    \n",
    "quantity_of_tripples_df = pd.DataFrame(quantity_of_tripples, columns=['tripples','quantity'])\n",
    "quantity_of_tripples_df.to_csv('results/tripples.csv', index=False)"
   ]
  },
  {
   "cell_type": "code",
   "execution_count": 11,
   "id": "a798aa6f-a4d4-4cb2-951f-74e55e2495f9",
   "metadata": {},
   "outputs": [
    {
     "name": "stdout",
     "output_type": "stream",
     "text": [
      "           tripples  quantity\n",
      "2163    [3, 23, 36]         6\n",
      "7769   [13, 31, 41]         6\n",
      "7336   [12, 29, 37]         6\n",
      "11395  [33, 41, 42]         6\n",
      "2987    [4, 31, 41]         6\n",
      "7775   [13, 32, 37]         6\n",
      "4324    [6, 36, 42]         6\n",
      "1097    [2, 10, 36]         6\n",
      "707     [1, 27, 35]         5\n",
      "6389   [10, 26, 32]         5\n",
      "2646    [4, 14, 23]         5\n",
      "6930   [11, 32, 33]         5\n",
      "7924   [14, 18, 39]         5\n",
      "3324    [5, 14, 35]         5\n",
      "818     [1, 40, 42]         5\n",
      "4964     [8, 9, 39]         5\n",
      "9879   [20, 31, 37]         5\n",
      "8203   [14, 41, 42]         5\n",
      "8455   [15, 28, 34]         5\n",
      "4102    [6, 20, 36]         5\n",
      "7990   [14, 21, 39]         5\n",
      "890      [2, 4, 36]         5\n",
      "4505    [7, 13, 19]         5\n",
      "7179   [12, 20, 33]         5\n",
      "2644    [4, 14, 21]         5\n",
      "828      [2, 3, 12]         5\n",
      "8376   [15, 23, 35]         5\n",
      "7547   [13, 18, 40]         5\n",
      "4709    [7, 21, 27]         5\n",
      "3766     [6, 8, 30]         5\n"
     ]
    }
   ],
   "source": [
    "# List of the most common tripples\n",
    "\n",
    "print(quantity_of_tripples_df.sort_values(by=['quantity'], ascending=False).head(30))"
   ]
  },
  {
   "cell_type": "code",
   "execution_count": 12,
   "id": "0ab0f341-696c-49cf-8089-807705447d10",
   "metadata": {},
   "outputs": [],
   "source": [
    "# In the analyzed years, there are several pairs that popped up six times"
   ]
  }
 ],
 "metadata": {
  "kernelspec": {
   "display_name": "Python 3",
   "language": "python",
   "name": "python3"
  },
  "language_info": {
   "codemirror_mode": {
    "name": "ipython",
    "version": 3
   },
   "file_extension": ".py",
   "mimetype": "text/x-python",
   "name": "python",
   "nbconvert_exporter": "python",
   "pygments_lexer": "ipython3",
   "version": "3.8.8"
  }
 },
 "nbformat": 4,
 "nbformat_minor": 5
}
