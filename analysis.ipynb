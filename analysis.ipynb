{
 "cells": [
  {
   "cell_type": "code",
   "execution_count": 120,
   "id": "52cdd77e",
   "metadata": {},
   "outputs": [],
   "source": [
    "#Import modules\n",
    "import pandas as pd\n",
    "import numpy as np\n",
    "import matplotlib.pyplot as plt\n",
    "import seaborn as sns"
   ]
  },
  {
   "cell_type": "code",
   "execution_count": 107,
   "id": "d13eec7c",
   "metadata": {},
   "outputs": [],
   "source": [
    "#Load data\n",
    "\n",
    "df_2019 = pd.read_csv('data/mini-lottowyniki 2019.csv', sep=';')\n",
    "df_2020 = pd.read_csv('data/mini-lottowyniki 2020.csv', sep=';')\n",
    "df_2021 = pd.read_csv('data/mini-lottowyniki 2021.csv', sep=';')\n",
    "df_2022 = pd.read_csv('data/mini-lottowyniki 2022.csv', sep=';')"
   ]
  },
  {
   "cell_type": "code",
   "execution_count": 108,
   "id": "66e239bf",
   "metadata": {
    "scrolled": true
   },
   "outputs": [
    {
     "name": "stdout",
     "output_type": "stream",
     "text": [
      "     id   day  month    year    N1    N2    N3    N4    N5\n",
      "0  4865  31.0   12.0  2019.0   6.0   8.0  12.0  31.0  40.0\n",
      "1  4864  30.0   12.0  2019.0  13.0  21.0  33.0  35.0  41.0\n",
      "2  4863  29.0   12.0  2019.0   1.0   5.0   9.0  14.0  35.0\n",
      "3  4862  28.0   12.0  2019.0   5.0  12.0  20.0  27.0  35.0\n",
      "4  4861  27.0   12.0  2019.0   1.0   4.0  10.0  14.0  23.0\n"
     ]
    }
   ],
   "source": [
    "print(df_2019.head(5))"
   ]
  },
  {
   "cell_type": "code",
   "execution_count": 109,
   "id": "a9099100",
   "metadata": {},
   "outputs": [],
   "source": [
    "#Mini lotto numbers are from 1 to 42 \n",
    "# quantity = np.array([np.arange(1,43,1, dtype=int), np.zeros(len(np.arange(1,43,1)))])\n",
    "# quantity = np.transpose(quantity)"
   ]
  },
  {
   "cell_type": "code",
   "execution_count": 113,
   "id": "7c00a3bf",
   "metadata": {},
   "outputs": [],
   "source": [
    "available_numbers = np.arange(1,43,1)\n",
    "columns = ['N1', 'N2', 'N3', 'N4', 'N5']\n",
    "\n",
    "df_all_quantity = pd.DataFrame(available_numbers, columns = ['numbers'])\n",
    "\n",
    "for column in columns:\n",
    "    quantity = np.array([np.arange(1,43,1, dtype=int), np.zeros(len(np.arange(1,43,1)))])\n",
    "    quantity = np.transpose(quantity)\n",
    "    for i in df_2020[column]:\n",
    "        for number in available_numbers:\n",
    "            if i == number:\n",
    "                quantity[number-1][1] = quantity[number-1][1] + 1 \n",
    "    df_quantity = pd.DataFrame(quantity, columns = ['numbers', column])  \n",
    "    df_all_quantity[column] = df_quantity[column]"
   ]
  },
  {
   "cell_type": "code",
   "execution_count": 114,
   "id": "c97a9be5",
   "metadata": {},
   "outputs": [
    {
     "name": "stdout",
     "output_type": "stream",
     "text": [
      "   numbers    N1    N2    N3   N4   N5\n",
      "0        1  42.0   0.0   0.0  0.0  0.0\n",
      "1        2  36.0   8.0   0.0  0.0  0.0\n",
      "2        3  37.0   6.0   1.0  0.0  0.0\n",
      "3        4  28.0  14.0   2.0  0.0  0.0\n",
      "4        5  31.0  12.0   2.0  0.0  0.0\n",
      "5        6  25.0  12.0   3.0  0.0  0.0\n",
      "6        7  30.0  11.0   2.0  0.0  0.0\n",
      "7        8  16.0  14.0   1.0  0.0  0.0\n",
      "8        9  14.0  27.0  13.0  2.0  0.0\n",
      "9       10  16.0  23.0   6.0  1.0  0.0\n"
     ]
    }
   ],
   "source": [
    "print(df_all_quantity.head(10))"
   ]
  },
  {
   "cell_type": "code",
   "execution_count": 115,
   "id": "07de6a3a",
   "metadata": {},
   "outputs": [],
   "source": [
    "df_all_quantity['sum_all'] = df_all_quantity['N1'] + df_all_quantity['N2'] + df_all_quantity['N3'] + df_all_quantity['N4'] + df_all_quantity['N5']"
   ]
  },
  {
   "cell_type": "code",
   "execution_count": 118,
   "id": "60dd2f20",
   "metadata": {},
   "outputs": [
    {
     "name": "stdout",
     "output_type": "stream",
     "text": [
      "    numbers    N1    N2    N3    N4    N5  sum_all\n",
      "8         9  14.0  27.0  13.0   2.0   0.0     56.0\n",
      "19       20   3.0  17.0  18.0  15.0   3.0     56.0\n",
      "35       36   0.0   1.0   1.0  28.0  25.0     55.0\n",
      "11       12  13.0  22.0  16.0   2.0   0.0     53.0\n",
      "41       42   0.0   0.0   0.0   0.0  51.0     51.0\n",
      "30       31   0.0   0.0  12.0  21.0  18.0     51.0\n",
      "29       30   0.0   4.0  11.0  24.0  11.0     50.0\n",
      "12       13  17.0  16.0  15.0   2.0   0.0     50.0\n",
      "13       14  11.0  26.0  10.0   2.0   0.0     49.0\n",
      "34       35   0.0   0.0   6.0  20.0  21.0     47.0\n"
     ]
    }
   ],
   "source": [
    "print(df_all_quantity.sort_values(by=['sum_all'], ascending=False).head(10))"
   ]
  },
  {
   "cell_type": "code",
   "execution_count": 129,
   "id": "8bcaa4d4",
   "metadata": {},
   "outputs": [
    {
     "data": {
      "text/plain": [
       "Text(0.5, 0, 'Numbers')"
      ]
     },
     "execution_count": 129,
     "metadata": {},
     "output_type": "execute_result"
    },
    {
     "data": {
      "text/plain": [
       "<Figure size 432x288 with 0 Axes>"
      ]
     },
     "metadata": {},
     "output_type": "display_data"
    },
    {
     "data": {
      "image/png": "[encoded data removed]",
      "text/plain": [
       "<Figure size 1008x432 with 1 Axes>"
      ]
     },
     "metadata": {
      "needs_background": "light"
     },
     "output_type": "display_data"
    }
   ],
   "source": [
    "plt.figure(1)\n",
    "plt.figure(figsize=(14, 6))\n",
    "ax = sns.barplot(x='numbers', y=\"sum_all\", data=df_all_quantity)\n",
    "plt.ylabel(\"Quantity\")\n",
    "plt.xlabel(\"Numbers\")"
   ]
  },
  {
   "cell_type": "code",
   "execution_count": null,
   "id": "56073dad",
   "metadata": {},
   "outputs": [],
   "source": []
  }
 ],
 "metadata": {
  "kernelspec": {
   "display_name": "Python 3",
   "language": "python",
   "name": "python3"
  },
  "language_info": {
   "codemirror_mode": {
    "name": "ipython",
    "version": 3
   },
   "file_extension": ".py",
   "mimetype": "text/x-python",
   "name": "python",
   "nbconvert_exporter": "python",
   "pygments_lexer": "ipython3",
   "version": "3.8.8"
  }
 },
 "nbformat": 4,
 "nbformat_minor": 5
}
