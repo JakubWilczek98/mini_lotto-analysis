{
 "cells": [
  {
   "cell_type": "code",
   "execution_count": 20,
   "id": "f9621c0d",
   "metadata": {},
   "outputs": [],
   "source": [
    "#Import modules\n",
    "import pandas as pd\n",
    "import numpy as np"
   ]
  },
  {
   "cell_type": "code",
   "execution_count": 91,
   "id": "f9214248",
   "metadata": {},
   "outputs": [],
   "source": [
    "#Load data\n",
    "\n",
    "df_2019 = pd.read_csv('data/mini-lottowyniki 2019.csv', sep=';')\n",
    "df_2020 = pd.read_csv('data/mini-lottowyniki 2020.csv', sep=';')\n",
    "df_2021 = pd.read_csv('data/mini-lottowyniki 2021.csv', sep=';')\n",
    "df_2022 = pd.read_csv('data/mini-lottowyniki 2022.csv', sep=';')"
   ]
  },
  {
   "cell_type": "code",
   "execution_count": 9,
   "id": "6ef80168",
   "metadata": {
    "scrolled": true
   },
   "outputs": [
    {
     "name": "stdout",
     "output_type": "stream",
     "text": [
      "     id   day  month    year    N1    N2    N3    N4    N5\n",
      "0  4865  31.0   12.0  2019.0   6.0   8.0  12.0  31.0  40.0\n",
      "1  4864  30.0   12.0  2019.0  13.0  21.0  33.0  35.0  41.0\n",
      "2  4863  29.0   12.0  2019.0   1.0   5.0   9.0  14.0  35.0\n",
      "3  4862  28.0   12.0  2019.0   5.0  12.0  20.0  27.0  35.0\n",
      "4  4861  27.0   12.0  2019.0   1.0   4.0  10.0  14.0  23.0\n"
     ]
    }
   ],
   "source": [
    "print(df_2019.head(5))"
   ]
  },
  {
   "cell_type": "code",
   "execution_count": 94,
   "id": "8a4205e5",
   "metadata": {},
   "outputs": [
    {
     "name": "stdout",
     "output_type": "stream",
     "text": [
      "[0. 0. 0. 0. 0. 0. 0. 0. 0. 0. 0. 0. 0. 0. 0. 0. 0. 0. 0. 0. 0. 0. 0. 0.\n",
      " 0. 0. 0. 0. 0. 0. 0. 0. 0. 0. 0. 0. 0. 0. 0. 0. 0. 0.]\n"
     ]
    }
   ],
   "source": [
    "#Mini lotto numbers are from 1 to 42 \n",
    "# quantity = np.array([np.arange(1,43,1, dtype=int), np.zeros(len(np.arange(1,43,1)))])\n",
    "# quantity = np.transpose(quantity)"
   ]
  },
  {
   "cell_type": "code",
   "execution_count": 103,
   "id": "d83e8a7e",
   "metadata": {},
   "outputs": [],
   "source": [
    "available_numbers = np.arange(1,43,1)\n",
    "columns = ['N1', 'N2', 'N3', 'N4', 'N5']\n",
    "\n",
    "df_all_quantity = pd.DataFrame(available_numbers, columns = ['numbers'])\n",
    "\n",
    "for column in columns:\n",
    "    quantity = np.array([np.arange(1,43,1, dtype=int), np.zeros(len(np.arange(1,43,1)))])\n",
    "    quantity = np.transpose(quantity)\n",
    "    for i in df_2019[column]:\n",
    "        for number in available_numbers:\n",
    "            if i == number:\n",
    "                quantity[number-1][1] = quantity[number-1][1] + 1 \n",
    "    df_quantity = pd.DataFrame(quantity, columns = ['numbers', column])  \n",
    "    df_all_quantity[column] = df_quantity[column]"
   ]
  },
  {
   "cell_type": "code",
   "execution_count": 104,
   "id": "0d756d0e",
   "metadata": {},
   "outputs": [
    {
     "name": "stdout",
     "output_type": "stream",
     "text": [
      "    numbers    N1    N2    N3    N4    N5\n",
      "0         1  39.0   0.0   0.0   0.0   0.0\n",
      "1         2  36.0   2.0   0.0   0.0   0.0\n",
      "2         3  32.0  10.0   1.0   0.0   0.0\n",
      "3         4  46.0   6.0   0.0   0.0   0.0\n",
      "4         5  38.0  19.0   4.0   0.0   0.0\n",
      "5         6  20.0  13.0   4.0   2.0   0.0\n",
      "6         7  23.0  11.0   1.0   0.0   0.0\n",
      "7         8  12.0  23.0   7.0   1.0   0.0\n",
      "8         9  12.0  12.0   6.0   0.0   0.0\n",
      "9        10  18.0  13.0   6.0   0.0   2.0\n",
      "10       11  13.0  26.0   6.0   1.0   0.0\n",
      "11       12  14.0  19.0  10.0   2.0   0.0\n",
      "12       13  14.0  17.0   6.0   5.0   0.0\n",
      "13       14   8.0  19.0  12.0   5.0   0.0\n",
      "14       15   6.0  14.0  16.0   0.0   2.0\n",
      "15       16   7.0  23.0  17.0   4.0   0.0\n",
      "16       17   4.0  19.0  18.0   5.0   0.0\n",
      "17       18   1.0  20.0  15.0   5.0   1.0\n",
      "18       19   6.0  14.0  14.0   9.0   1.0\n",
      "19       20   2.0   9.0  11.0   6.0   1.0\n",
      "20       21   1.0  15.0  15.0  11.0   3.0\n",
      "21       22   4.0   8.0  31.0  10.0   3.0\n",
      "22       23   5.0  13.0  16.0  10.0   5.0\n",
      "23       24   1.0   8.0   9.0  20.0   3.0\n",
      "24       25   2.0   8.0  12.0  12.0   3.0\n",
      "25       26   0.0   7.0  14.0  14.0   1.0\n",
      "26       27   1.0   6.0  11.0  14.0   9.0\n",
      "27       28   0.0   5.0  22.0  17.0  13.0\n",
      "28       29   0.0   1.0  12.0  28.0   8.0\n",
      "29       30   0.0   3.0  13.0  15.0  10.0\n",
      "30       31   0.0   0.0  12.0  21.0  12.0\n",
      "31       32   0.0   0.0   9.0  24.0  19.0\n",
      "32       33   0.0   2.0  13.0  15.0  19.0\n",
      "33       34   0.0   0.0   5.0  19.0  14.0\n",
      "34       35   0.0   0.0  10.0  18.0  24.0\n",
      "35       36   0.0   0.0   3.0  17.0  19.0\n",
      "36       37   0.0   0.0   4.0  21.0  30.0\n",
      "37       38   0.0   0.0   0.0  18.0  29.0\n",
      "38       39   0.0   0.0   0.0  12.0  31.0\n",
      "39       40   0.0   0.0   0.0   3.0  35.0\n",
      "40       41   0.0   0.0   0.0   1.0  32.0\n",
      "41       42   0.0   0.0   0.0   0.0  36.0\n"
     ]
    }
   ],
   "source": [
    "print(df_all_quantity)"
   ]
  },
  {
   "cell_type": "code",
   "execution_count": null,
   "id": "18e573c7",
   "metadata": {},
   "outputs": [],
   "source": []
  }
 ],
 "metadata": {
  "kernelspec": {
   "display_name": "Python 3",
   "language": "python",
   "name": "python3"
  },
  "language_info": {
   "codemirror_mode": {
    "name": "ipython",
    "version": 3
   },
   "file_extension": ".py",
   "mimetype": "text/x-python",
   "name": "python",
   "nbconvert_exporter": "python",
   "pygments_lexer": "ipython3",
   "version": "3.8.8"
  }
 },
 "nbformat": 4,
 "nbformat_minor": 5
}
