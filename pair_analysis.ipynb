{
 "cells": [
  {
   "cell_type": "code",
   "execution_count": 1,
   "id": "57e8fea8-3bfa-4a5a-bafb-be3352dda4a5",
   "metadata": {},
   "outputs": [],
   "source": [
    "# Modules\n",
    "import pandas as pd\n",
    "import numpy as np"
   ]
  },
  {
   "cell_type": "code",
   "execution_count": 3,
   "id": "89735d9e-b707-498f-b261-5da74fd1a16d",
   "metadata": {},
   "outputs": [],
   "source": [
    "# Load lotto data\n",
    "\n",
    "data_file_names = ['mini-lottowyniki 2019',\n",
    "                   'mini-lottowyniki 2020',\n",
    "                   'mini-lottowyniki 2021',\n",
    "                   'mini-lottowyniki 2022']\n",
    "\n",
    "df = pd.DataFrame()\n",
    "\n",
    "for name in data_file_names:\n",
    "    df = df.append(pd.read_csv(f'data/{name}.csv', sep=';'), ignore_index=True)"
   ]
  },
  {
   "cell_type": "code",
   "execution_count": 4,
   "id": "56adf182-1f6e-45c1-92b2-42de412947e9",
   "metadata": {},
   "outputs": [],
   "source": [
    "#----------------------Pair Analysis--------------------------\n",
    "\n",
    "a_collection = np.arange(1,43,1)\n",
    "b_collection = np.arange(1,43,1)\n",
    "\n",
    "\n",
    "# Create list with all pairs\n",
    "pairs = []\n",
    "for a in a_collection:\n",
    "    for b in b_collection: \n",
    "        pairs.append([a,b])"
   ]
  },
  {
   "cell_type": "code",
   "execution_count": 5,
   "id": "d74c04c8-148e-4f6d-8121-fccba7da1949",
   "metadata": {},
   "outputs": [],
   "source": [
    "# Pairs without duplicates and doubbles\n",
    "\n",
    "# Delete dubbles\n",
    "new_pairs = []\n",
    "for pair in pairs:\n",
    "    if pair[0] != pair[1]:\n",
    "        new_pairs.append(pair)\n",
    "        \n",
    "pairs = new_pairs\n",
    "\n",
    "#Delete duplicates\n",
    "for pair in pairs:\n",
    "    pair.sort()\n",
    "    \n",
    "pairs.sort()\n",
    "\n",
    "new_pairs = []\n",
    "\n",
    "for i in range(len(pairs)):\n",
    "    if i % 2 == 0:\n",
    "        new_pairs.append(pairs[i])\n",
    "\n",
    "pairs = new_pairs "
   ]
  },
  {
   "cell_type": "code",
   "execution_count": 6,
   "id": "775ec117-f8a4-4b79-b9b7-057f9f37723c",
   "metadata": {},
   "outputs": [],
   "source": [
    "# Checking if pair in mini lotto results\n",
    "found_pairs = []\n",
    "\n",
    "for pair in pairs: \n",
    "    for index, rows in df.iterrows():\n",
    "        numbers_list = [rows.N1, rows.N2, rows.N3, rows.N4, rows.N5]\n",
    "        if pair[0] in numbers_list and pair[1] in numbers_list:\n",
    "            found_pairs.append(pair)"
   ]
  },
  {
   "cell_type": "code",
   "execution_count": 9,
   "id": "0990cda1-e8ac-444d-8679-dfd70d30db3e",
   "metadata": {},
   "outputs": [],
   "source": [
    "# Counting the occurrence of pairs\n",
    "quantity_of_pairs = []\n",
    "\n",
    "for pair in pairs:\n",
    "    count = 0\n",
    "    for f_pair in found_pairs:\n",
    "        if pair is f_pair:\n",
    "            count += 1\n",
    "    quantity_of_pairs.append([pair,count])\n",
    "\n",
    "# Save the results\n",
    "quantity_of_pairs_df = pd.DataFrame(quantity_of_pairs, columns=['pair','quantity'])\n",
    "quantity_of_pairs_df.to_csv('results/pairs.csv', index=False)"
   ]
  },
  {
   "cell_type": "code",
   "execution_count": 10,
   "id": "2f4ab0e4-8a05-4ac5-960d-17c75793d894",
   "metadata": {},
   "outputs": [
    {
     "name": "stdout",
     "output_type": "stream",
     "text": [
      "         pair  quantity\n",
      "584  [18, 42]        28\n",
      "845  [36, 42]        26\n",
      "515  [16, 22]        26\n",
      "130   [4, 15]        25\n",
      "166   [5, 14]        25\n",
      "461  [14, 21]        25\n",
      "256   [7, 33]        25\n",
      "224   [6, 36]        25\n",
      "154   [4, 39]        25\n",
      "151   [4, 36]        25\n",
      "389  [11, 36]        25\n",
      "443  [13, 31]        24\n",
      "41     [2, 3]        24\n",
      "540  [17, 22]        24\n",
      "507  [15, 40]        24\n",
      "645  [21, 37]        24\n",
      "449  [13, 37]        24\n",
      "74    [2, 36]        24\n",
      "97    [3, 20]        24\n",
      "243   [7, 20]        24\n",
      "137   [4, 22]        24\n",
      "824  [33, 42]        24\n",
      "236   [7, 13]        24\n",
      "614  [20, 27]        24\n",
      "386  [11, 33]        24\n",
      "474  [14, 34]        23\n",
      "475  [14, 35]        23\n",
      "129   [4, 14]        23\n",
      "462  [14, 22]        23\n",
      "348  [10, 26]        23\n"
     ]
    }
   ],
   "source": [
    "# List of the most common pairs\n",
    "\n",
    "print(quantity_of_pairs_df.sort_values(by=['quantity'], ascending=False).head(30))"
   ]
  },
  {
   "cell_type": "code",
   "execution_count": 11,
   "id": "45fb8ff3-5c04-4110-ae02-3062d5085a0b",
   "metadata": {},
   "outputs": [],
   "source": [
    "# In the analyzed years, the most frequently appearing pairs of numbers are [18, 42] and [36,42]"
   ]
  }
 ],
 "metadata": {
  "kernelspec": {
   "display_name": "Python 3",
   "language": "python",
   "name": "python3"
  },
  "language_info": {
   "codemirror_mode": {
    "name": "ipython",
    "version": 3
   },
   "file_extension": ".py",
   "mimetype": "text/x-python",
   "name": "python",
   "nbconvert_exporter": "python",
   "pygments_lexer": "ipython3",
   "version": "3.8.8"
  }
 },
 "nbformat": 4,
 "nbformat_minor": 5
}
