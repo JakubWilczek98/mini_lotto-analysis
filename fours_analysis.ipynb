{
 "cells": [
  {
   "cell_type": "code",
   "execution_count": 7,
   "id": "ed6c7db0-b52b-4b76-bd31-22f3ebf0776a",
   "metadata": {},
   "outputs": [],
   "source": [
    "# Modules\n",
    "import pandas as pd\n",
    "import numpy as np"
   ]
  },
  {
   "cell_type": "code",
   "execution_count": 8,
   "id": "2554bffa-6c5f-4b14-a898-8662ecf40672",
   "metadata": {},
   "outputs": [],
   "source": [
    "# Load lotto data\n",
    "\n",
    "data_file_names = ['mini-lottowyniki 2019',\n",
    "                   'mini-lottowyniki 2020',\n",
    "                   'mini-lottowyniki 2021',\n",
    "                   'mini-lottowyniki 2022']\n",
    "\n",
    "df = pd.DataFrame()\n",
    "\n",
    "for name in data_file_names:\n",
    "    df = df.append(pd.read_csv(f'data/{name}.csv', sep=';'), ignore_index=True)"
   ]
  },
  {
   "cell_type": "code",
   "execution_count": 9,
   "id": "093f68bc-5c02-439c-a947-5e006dfcbeed",
   "metadata": {},
   "outputs": [],
   "source": [
    "#----------------------Fours Analysis--------------------------\n",
    "\n",
    "a_collection = np.arange(1,43,1)\n",
    "b_collection = np.arange(1,43,1)\n",
    "c_collection = np.arange(1,43,1)\n",
    "d_collection = np.arange(1,43,1)\n",
    "\n",
    "\n",
    "#Create list with all pairs\n",
    "fours = []\n",
    "for a in a_collection:\n",
    "    for b in b_collection: \n",
    "        for c in c_collection:\n",
    "            for d in d_collection:\n",
    "                fours.append([a,b,c,d])"
   ]
  },
  {
   "cell_type": "code",
   "execution_count": 10,
   "id": "4b37451f-2d85-4988-8b60-f4e7a920d3d0",
   "metadata": {},
   "outputs": [],
   "source": [
    "# Delete fours\n",
    "\n",
    "new_fours = []\n",
    "for four in fours:\n",
    "    if four[0] != four[1] and four[1] != four[2] and four[2] != four[3] and four[0] != four[2] and four[0] != four[3] and four[1] != four[3]:\n",
    "        new_fours.append(four)\n",
    "        \n",
    "fours = new_fours"
   ]
  },
  {
   "cell_type": "code",
   "execution_count": 11,
   "id": "a0114469-a452-484a-9a2c-88e5347a5b83",
   "metadata": {},
   "outputs": [],
   "source": [
    "# Delete fours\n",
    "\n",
    "for four in fours:\n",
    "    four.sort()\n",
    "    \n",
    "fours.sort()\n",
    "\n",
    "unic_fours_numbers = np.arange(0,2686320,144)\n",
    "new_fours = []\n",
    "for number in unic_fours_numbers:\n",
    "    new_fours.append(fours[number])\n",
    "    \n",
    "fours = new_fours"
   ]
  },
  {
   "cell_type": "code",
   "execution_count": 13,
   "id": "6c848db4-49e1-40c7-9839-95807f48206e",
   "metadata": {},
   "outputs": [],
   "source": [
    "# Checking if tripple in mini lotto results\n",
    "\n",
    "found_fours = []\n",
    "\n",
    "for four in fours: \n",
    "    for index, rows in df.iterrows():\n",
    "        numbers_list = [rows.N1, rows.N2, rows.N3, rows.N4, rows.N5]\n",
    "        if four[0] in numbers_list and four[1] in numbers_list and four[2] in numbers_list and four[3] in numbers_list:\n",
    "            found_fours.append(four)"
   ]
  },
  {
   "cell_type": "code",
   "execution_count": 15,
   "id": "f4286250-ffdb-4829-9cd4-2d83424b9a2b",
   "metadata": {},
   "outputs": [],
   "source": [
    "# Counting the occurrence of fours\n",
    "\n",
    "quantity_of_fours = []\n",
    "\n",
    "for four in fours:\n",
    "    count = 0\n",
    "    for f_four in found_fours:\n",
    "        if four is f_four:\n",
    "            count += 1\n",
    "    quantity_of_fours.append([four,count])\n",
    "    \n",
    "quantity_of_fours_df = pd.DataFrame(quantity_of_fours, columns=['four','quantity'])\n",
    "quantity_of_fours_df.to_csv('results/fours.csv', index=False)"
   ]
  },
  {
   "cell_type": "code",
   "execution_count": 17,
   "id": "6fd5ceb3-307f-412d-88c8-e04f8c8b7e33",
   "metadata": {},
   "outputs": [
    {
     "name": "stdout",
     "output_type": "stream",
     "text": [
      "                   four  quantity\n",
      "777      [1, 8, 37, 39]         2\n",
      "9730    [7, 22, 32, 38]         2\n",
      "13526  [12, 14, 28, 41]         2\n",
      "7309    [5, 18, 38, 42]         2\n",
      "1439    [1, 18, 40, 42]         2\n",
      "1837     [2, 3, 14, 42]         2\n",
      "13000  [11, 17, 24, 31]         2\n",
      "1149    [1, 13, 27, 36]         2\n",
      "5582    [4, 11, 26, 35]         2\n",
      "15349  [15, 18, 19, 34]         2\n",
      "13296  [11, 25, 38, 40]         2\n",
      "8143    [6, 12, 27, 41]         2\n",
      "1086    [1, 12, 29, 37]         2\n",
      "13377  [11, 31, 33, 41]         2\n",
      "3443      [3, 4, 8, 19]         2\n",
      "17110  [19, 28, 32, 37]         2\n",
      "9398    [7, 15, 19, 39]         2\n",
      "4538    [3, 17, 25, 28]         2\n",
      "6509     [5, 7, 18, 33]         2\n",
      "9275    [7, 13, 19, 30]         2\n",
      "3156    [2, 20, 31, 34]         2\n",
      "1404    [1, 18, 21, 41]         2\n",
      "9918    [7, 34, 39, 40]         2\n",
      "2         [1, 2, 3, 16]         2\n",
      "12533  [10, 25, 28, 42]         2\n",
      "4854    [3, 27, 28, 34]         2\n",
      "11687   [9, 24, 30, 37]         2\n",
      "14667  [13, 31, 37, 41]         2\n",
      "6461      [5, 7, 8, 30]         2\n",
      "12995  [11, 17, 22, 38]         2\n",
      "9634    [7, 20, 21, 27]         2\n",
      "6054    [4, 19, 36, 38]         2\n",
      "4699    [3, 21, 24, 41]         2\n",
      "5621    [4, 12, 16, 39]         2\n",
      "11095   [9, 12, 14, 41]         2\n",
      "14136  [13, 14, 29, 34]         2\n",
      "12157  [10, 15, 28, 31]         2\n",
      "15959  [16, 22, 29, 35]         2\n",
      "1825     [2, 3, 12, 27]         2\n",
      "3541      [3, 5, 6, 10]         1\n",
      "2335      [2, 8, 9, 25]         1\n",
      "3260    [2, 23, 37, 42]         1\n",
      "12344  [10, 19, 26, 28]         1\n",
      "18654  [37, 40, 41, 42]         1\n",
      "12346  [10, 19, 26, 40]         1\n",
      "14483  [13, 22, 25, 38]         1\n",
      "8853     [7, 8, 11, 40]         1\n",
      "6081    [4, 20, 29, 32]         1\n",
      "843      [1, 9, 25, 33]         1\n",
      "4432    [3, 15, 24, 34]         1\n",
      "3266    [2, 24, 26, 35]         1\n",
      "2329     [2, 7, 36, 37]         1\n",
      "4428    [3, 15, 23, 28]         1\n",
      "11273   [9, 14, 28, 38]         1\n",
      "17845  [22, 37, 39, 41]         1\n",
      "10333   [8, 14, 18, 39]         1\n",
      "17843  [22, 36, 38, 42]         1\n",
      "2338     [2, 8, 10, 11]         1\n",
      "15591  [15, 24, 36, 40]         1\n",
      "14475  [13, 22, 23, 25]         1\n"
     ]
    }
   ],
   "source": [
    "# List of the most common fours\n",
    "\n",
    "print(quantity_of_fours_df.sort_values(by=['quantity'], ascending=False).head(60))"
   ]
  },
  {
   "cell_type": "code",
   "execution_count": 18,
   "id": "df5c54d2-866f-44c2-9ccd-5ec4731c4e5d",
   "metadata": {},
   "outputs": [],
   "source": [
    "# No four numbers occur more than twice"
   ]
  }
 ],
 "metadata": {
  "kernelspec": {
   "display_name": "Python 3",
   "language": "python",
   "name": "python3"
  },
  "language_info": {
   "codemirror_mode": {
    "name": "ipython",
    "version": 3
   },
   "file_extension": ".py",
   "mimetype": "text/x-python",
   "name": "python",
   "nbconvert_exporter": "python",
   "pygments_lexer": "ipython3",
   "version": "3.8.8"
  }
 },
 "nbformat": 4,
 "nbformat_minor": 5
}
